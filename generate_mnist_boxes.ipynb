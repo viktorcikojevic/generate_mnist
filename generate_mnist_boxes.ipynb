{
  "cells": [
    {
      "cell_type": "code",
      "execution_count": null,
      "metadata": {
        "id": "D7i3OhlA7ej6"
      },
      "outputs": [],
      "source": []
    },
    {
      "cell_type": "markdown",
      "metadata": {},
      "source": [
        "# Generate MNIST dataset on a black canvas"
      ]
    },
    {
      "cell_type": "markdown",
      "metadata": {
        "id": "z_wcO1Czw1sw"
      },
      "source": [
        "## Generate the artificial dataset"
      ]
    },
    {
      "cell_type": "markdown",
      "metadata": {
        "id": "qpiJj8ym0v0-"
      },
      "source": [
        "### Imports"
      ]
    },
    {
      "cell_type": "code",
      "execution_count": null,
      "metadata": {
        "colab": {
          "base_uri": "https://localhost:8080/"
        },
        "id": "AoilhmYe1b5t",
        "outputId": "f6583f4c-40d9-4d18-a7a6-f8862f844de8"
      },
      "outputs": [
        {
          "name": "stdout",
          "output_type": "stream",
          "text": [
            "Tensorflow version 2.7.0\n"
          ]
        }
      ],
      "source": [
        "import os, re, time, json\n",
        "import PIL.Image, PIL.ImageFont, PIL.ImageDraw\n",
        "import numpy as np\n",
        "import tensorflow as tf\n",
        "from matplotlib import pyplot as plt\n",
        "import tensorflow_datasets as tfds\n",
        "\n",
        "print(\"Tensorflow version \" + tf.__version__)"
      ]
    },
    {
      "cell_type": "markdown",
      "metadata": {
        "id": "Q60Wn8GjeDrt"
      },
      "source": [
        "### Parameters"
      ]
    },
    {
      "cell_type": "code",
      "execution_count": null,
      "metadata": {
        "id": "WKCoXr8KeDrt"
      },
      "outputs": [],
      "source": [
        "NEW_IMG_SIZE = 200\n",
        "BATCH_SIZE = 32\n",
        "MAX_DATA = 1000\n",
        "N_BOXES = 4"
      ]
    },
    {
      "cell_type": "markdown",
      "metadata": {
        "id": "xmoFKEd98MP3"
      },
      "source": [
        "### Visualization Utilities\n",
        "\n",
        "These functions are used to draw bounding boxes around the digits."
      ]
    },
    {
      "cell_type": "code",
      "execution_count": null,
      "metadata": {
        "id": "tBjj1Fg-i_lc"
      },
      "outputs": [],
      "source": [
        "use_normalized_coordinates = True\n",
        "\n",
        "def draw_bounding_boxes_on_image_array(image,\n",
        "                                       boxes,\n",
        "                                       color=[],\n",
        "                                       thickness=1,\n",
        "                                       display_str_list=()):\n",
        "  \"\"\"Draws bounding boxes on image (numpy array).\n",
        "  Args:\n",
        "    image: a numpy array object.\n",
        "    boxes: a 2 dimensional numpy array of [N, 4]: (ymin, xmin, ymax, xmax).\n",
        "           The coordinates are in normalized format between [0, 1].\n",
        "    color: color to draw bounding box. Default is red.\n",
        "    thickness: line thickness. Default value is 4.\n",
        "    display_str_list_list: a list of strings for each bounding box.\n",
        "  Raises:\n",
        "    ValueError: if boxes is not a [N, 4] array\n",
        "  \"\"\"\n",
        "  image_pil = PIL.Image.fromarray(image)\n",
        "  rgbimg = PIL.Image.new(\"RGBA\", image_pil.size)\n",
        "  rgbimg.paste(image_pil)\n",
        "  draw_bounding_boxes_on_image(rgbimg, boxes, color, thickness,\n",
        "                               display_str_list)\n",
        "  return np.array(rgbimg)\n",
        "  \n",
        "\n",
        "def draw_bounding_boxes_on_image(image,\n",
        "                                 boxes,\n",
        "                                 color=[],\n",
        "                                 thickness=1,\n",
        "                                 display_str_list=()):\n",
        "  \"\"\"Draws bounding boxes on image.\n",
        "  Args:\n",
        "    image: a PIL.Image object.\n",
        "    boxes: a 2 dimensional numpy array of [N, 4]: (ymin, xmin, ymax, xmax).\n",
        "           The coordinates are in normalized format between [0, 1].\n",
        "    color: color to draw bounding box. Default is red.\n",
        "    thickness: line thickness. Default value is 4.\n",
        "    display_str_list: a list of strings for each bounding box.\n",
        "                           \n",
        "  Raises:\n",
        "    ValueError: if boxes is not a [N, 4] array\n",
        "  \"\"\"\n",
        "  boxes_shape = boxes.shape\n",
        "  if not boxes_shape:\n",
        "    return\n",
        "  if len(boxes_shape) != 2 or boxes_shape[1] != 4:\n",
        "    raise ValueError('Input must be of size [N, 4]')\n",
        "  for i in range(boxes_shape[0]):\n",
        "    draw_bounding_box_on_image(image, boxes[i, 1], boxes[i, 0], boxes[i, 3], boxes[i, 2],  thickness)\n",
        "        \n",
        "def draw_bounding_box_on_image(image,\n",
        "                               ymin,\n",
        "                               xmin,\n",
        "                               ymax,\n",
        "                               xmax,\n",
        "                               color='red',\n",
        "                               thickness=1,\n",
        "                               display_str=None,\n",
        "                               use_normalized_coordinates=True):\n",
        "  \"\"\"Adds a bounding box to an image.\n",
        "  Bounding box coordinates can be specified in either absolute (pixel) or\n",
        "  normalized coordinates by setting the use_normalized_coordinates argument.\n",
        "  Args:\n",
        "    image: a PIL.Image object.\n",
        "    ymin: ymin of bounding box.\n",
        "    xmin: xmin of bounding box.\n",
        "    ymax: ymax of bounding box.\n",
        "    xmax: xmax of bounding box.\n",
        "    color: color to draw bounding box. Default is red.\n",
        "    thickness: line thickness. Default value is 4.\n",
        "    display_str_list: string to display in box\n",
        "    use_normalized_coordinates: If True (default), treat coordinates\n",
        "      ymin, xmin, ymax, xmax as relative to the image.  Otherwise treat\n",
        "      coordinates as absolute.\n",
        "  \"\"\"\n",
        "  draw = PIL.ImageDraw.Draw(image)\n",
        "  NEW_IMG_SIZE, NEW_IMG_SIZE = image.size\n",
        "  if use_normalized_coordinates:\n",
        "    (left, right, top, bottom) = (xmin * NEW_IMG_SIZE, xmax * NEW_IMG_SIZE,\n",
        "                                  ymin * NEW_IMG_SIZE, ymax * NEW_IMG_SIZE)\n",
        "  else:\n",
        "    (left, right, top, bottom) = (xmin, xmax, ymin, ymax)\n",
        "  draw.line([(left, top), (left, bottom), (right, bottom),\n",
        "             (right, top), (left, top)], width=thickness, fill=color)\n",
        "  \n"
      ]
    },
    {
      "cell_type": "markdown",
      "metadata": {
        "id": "USx9tRBF8hWy"
      },
      "source": [
        "These utilities are used to visualize the data and predictions."
      ]
    },
    {
      "cell_type": "code",
      "execution_count": null,
      "metadata": {
        "id": "qhdz68Xm3Z4Z"
      },
      "outputs": [],
      "source": [
        "\"\"\"\n",
        "This cell contains helper functions used for visualization\n",
        "and downloads only. \n",
        "\n",
        "You can skip reading it, as there is very\n",
        "little Keras or Tensorflow related code here.\n",
        "\"\"\"\n",
        "\n",
        "# Matplotlib config\n",
        "plt.rc('image', cmap='gray')\n",
        "plt.rc('grid', linewidth=0)\n",
        "plt.rc('xtick', top=False, bottom=False, labelsize='large')\n",
        "plt.rc('ytick', left=False, right=False, labelsize='large')\n",
        "plt.rc('axes', facecolor='F8F8F8', titlesize=\"large\", edgecolor='white')\n",
        "plt.rc('text', color='a8151a')\n",
        "plt.rc('figure', facecolor='F0F0F0')# Matplotlib fonts\n",
        "MATPLOTLIB_FONT_DIR = os.path.join(os.path.dirname(plt.__file__), \"mpl-data/fonts/ttf\")\n",
        "\n",
        "\n",
        "# utility to display a row of digits with their predictions\n",
        "def display_digits_with_boxes(digits, bboxes, title, n_images=10):\n",
        "\n",
        "  digits = digits[:n_images]\n",
        "  bboxes = bboxes[:n_images]\n",
        "\n",
        "  n_digits = digits * 255.0\n",
        "  n_digits = n_digits.reshape(n_images, NEW_IMG_SIZE, NEW_IMG_SIZE)\n",
        "  fig = plt.figure(figsize=(n_images, 4))\n",
        "  plt.title(title)\n",
        "  \n",
        "  \n",
        "  for i in range(n_images):\n",
        "    ax = fig.add_subplot(1, n_images, i+1)\n",
        "    img_to_draw = draw_bounding_boxes_on_image_array(image=n_digits[i], boxes=bboxes[i], color=['red'], display_str_list=[\"true\"])\n",
        "    \n",
        "    plt.imshow(img_to_draw)\n",
        "  plt.yticks([])\n",
        "  plt.xticks([])\n",
        "\n",
        "# utility to display training and validation curves\n",
        "def plot_metrics(history, metric_name, title, ylim=5):\n",
        "  plt.title(title)\n",
        "  plt.ylim(0,ylim)\n",
        "  plt.plot(history.history[metric_name],color='blue',label=metric_name)\n",
        "  plt.plot(history.history['val_' + metric_name],color='green',label='val_' + metric_name)"
      ]
    },
    {
      "cell_type": "markdown",
      "metadata": {
        "id": "JVkc7nzg-WUy"
      },
      "source": [
        "### Loading and Preprocessing the Dataset\n",
        "\n",
        "Define some helper functions that will pre-process your data:\n",
        "- `read_image_tfds`: randomly overlays the \"digit\" image on top of a larger canvas.\n",
        "- `get_training_dataset`: loads data and splits it to get the training set.\n",
        "- `get_validation_dataset`: loads and splits the data to get the validation set."
      ]
    },
    {
      "cell_type": "code",
      "execution_count": null,
      "metadata": {
        "id": "ZE8dgyPC1_6m"
      },
      "outputs": [],
      "source": [
        "\n",
        "'''\n",
        "Transforms each image in dataset by pasting it on a NEW_IMG_SIZExNEW_IMG_SIZE canvas at random locations.\n",
        "'''\n",
        "def draw_on_canvas(images_numpy):\n",
        "    imgs = []\n",
        "    bboxes = []\n",
        "    for image_numpy in images_numpy:\n",
        "        image = tf.convert_to_tensor(image_numpy)\n",
        "        xmin = tf.random.uniform((), 0 , NEW_IMG_SIZE - 28 - 3, dtype=tf.int32)\n",
        "        ymin = tf.random.uniform((), 0 , NEW_IMG_SIZE - 28 - 3, dtype=tf.int32)\n",
        "        image = tf.reshape(image, (28,28,1,))\n",
        "        image = tf.image.pad_to_bounding_box(image, ymin, xmin, NEW_IMG_SIZE, NEW_IMG_SIZE)\n",
        "    \n",
        "        image = tf.cast(image, tf.float32)/255.0\n",
        "    \n",
        "    \n",
        "    #image += tf.random.normal(shape=image.shape) * 0.5\n",
        "        xmin = tf.cast(xmin, tf.float32)\n",
        "        ymin = tf.cast(ymin, tf.float32)\n",
        "   \n",
        "        xmax = (xmin + 28) / NEW_IMG_SIZE\n",
        "        ymax = (ymin + 28) / NEW_IMG_SIZE\n",
        "        xmin = xmin / NEW_IMG_SIZE\n",
        "        ymin = ymin / NEW_IMG_SIZE\n",
        "\n",
        "        imgs.append(image)\n",
        "        box = np.array([xmin, ymin, xmax, ymax])\n",
        "        bboxes.append(box)\n",
        "\n",
        "\n",
        "    return (sum(imgs)).numpy(), np.array(bboxes)\n"
      ]
    },
    {
      "cell_type": "code",
      "execution_count": null,
      "metadata": {
        "id": "ZHxFVKMqeDrx"
      },
      "outputs": [],
      "source": [
        "def get_train_test(max_data=100):\n",
        "    ds_train = tfds.load(name=\"mnist\", split=\"train\")\n",
        "    ds_numpy = tfds.as_numpy(ds_train)\n",
        "    train_images = []\n",
        "    train_labels = []\n",
        "    for i, data in enumerate(ds_numpy):\n",
        "        if i > max_data:\n",
        "            break\n",
        "        train_images.append(data[\"image\"])\n",
        "        train_labels.append(data[\"labels\"])\n",
        "    \n",
        "    ds_test = tfds.load(name=\"mnist\", split=\"test\")\n",
        "    ds_numpy = tfds.as_numpy(ds_test)\n",
        "    test_images = []\n",
        "    test_labels = []\n",
        "    for i, data in enumerate(ds_numpy):\n",
        "        if i > max_data:\n",
        "            break\n",
        "        test_images.append(data[\"image\"])\n",
        "        test_labels.append(data[\"labels\"])\n",
        "    \n",
        "    return np.array(train_images), np.array(test_images), np.array(train_labels), np.array(test_labels)\n",
        "    \n",
        "def generate_bboxes(ds_numpy, labels, max_data=100):\n",
        "    images = []\n",
        "    bboxes = []\n",
        "    labels = []\n",
        "\n",
        "    for i in range(max_data):\n",
        "        idx = np.random.choice(MAX_DATA, N_BOXES)\n",
        "        imgs = ds_numpy[idx]\n",
        "        label = labels[idx]\n",
        "        img, boxes = draw_on_canvas(imgs)\n",
        "\n",
        "        images.append(img)\n",
        "        bboxes.append(boxes)\n",
        "    return np.array(images), np.array(bboxes), np.array()"
      ]
    },
    {
      "cell_type": "code",
      "execution_count": null,
      "metadata": {
        "colab": {
          "base_uri": "https://localhost:8080/",
          "height": 202,
          "referenced_widgets": [
            "94e91c91144c49d998a151f6b897a9f2",
            "7a24b863703b4d4cb04ab5e4bd139f74",
            "c99d6d9e76cd49df90e7415d3f272352",
            "8213604095464222a011d8c24181d137",
            "28e5ca2fcb744ff78d192066505d14da",
            "49dabfc805df4796a468829b1587b2e5",
            "b8037ac77c064edfb7b86169bb2a6400",
            "e0b95e9287c34744b9784e0f92bfb1d7",
            "e7fd11a4f35e4f03bd01f3f82c5d631e",
            "4a621259642e41dca2c22c45f7b6a081",
            "4b8e0877a20a4dc28c328ed373667c9d"
          ]
        },
        "id": "2QBlpomzeDrx",
        "outputId": "5d50289c-1fb1-4e98-e893-8058fe250c0f"
      },
      "outputs": [
        {
          "name": "stdout",
          "output_type": "stream",
          "text": [
            "\u001b[1mDownloading and preparing dataset mnist/3.0.1 (download: 11.06 MiB, generated: 21.00 MiB, total: 32.06 MiB) to /root/tensorflow_datasets/mnist/3.0.1...\u001b[0m\n"
          ]
        },
        {
          "name": "stderr",
          "output_type": "stream",
          "text": [
            "WARNING:absl:Dataset mnist is hosted on GCS. It will automatically be downloaded to your\n",
            "local data directory. If you'd instead prefer to read directly from our public\n",
            "GCS bucket (recommended if you're running on GCP), you can instead pass\n",
            "`try_gcs=True` to `tfds.load` or set `data_dir=gs://tfds-data/datasets`.\n",
            "\n"
          ]
        },
        {
          "data": {
            "application/vnd.jupyter.widget-view+json": {
              "model_id": "94e91c91144c49d998a151f6b897a9f2",
              "version_major": 2,
              "version_minor": 0
            },
            "text/plain": [
              "Dl Completed...:   0%|          | 0/4 [00:00<?, ? file/s]"
            ]
          },
          "metadata": {},
          "output_type": "display_data"
        },
        {
          "name": "stdout",
          "output_type": "stream",
          "text": [
            "\n",
            "\u001b[1mDataset mnist downloaded and prepared to /root/tensorflow_datasets/mnist/3.0.1. Subsequent calls will reuse this data.\u001b[0m\n"
          ]
        },
        {
          "data": {
            "text/plain": [
              "((1001, 28, 28, 1), (1001, 28, 28, 1))"
            ]
          },
          "execution_count": 28,
          "metadata": {},
          "output_type": "execute_result"
        }
      ],
      "source": [
        "train_images, test_images = get_train_test(max_data=MAX_DATA)\n",
        "train_images.shape, test_images.shape\n",
        "\n"
      ]
    },
    {
      "cell_type": "code",
      "execution_count": null,
      "metadata": {
        "colab": {
          "base_uri": "https://localhost:8080/"
        },
        "id": "bV3yb07oeDrx",
        "outputId": "77fdbab3-5ed3-4de1-9fa2-d2521e55a729"
      },
      "outputs": [
        {
          "data": {
            "text/plain": [
              "((1000, 200, 200, 1), (1000, 4, 4), (100, 200, 200, 1), (100, 4, 4))"
            ]
          },
          "execution_count": 29,
          "metadata": {},
          "output_type": "execute_result"
        }
      ],
      "source": [
        "train_images_wcanvac, train_bboxes = generate_bboxes(train_images, max_data=MAX_DATA)\n",
        "test_images_wcanvac, test_bboxes = generate_bboxes(test_images, max_data=100)\n",
        "train_images_wcanvac.shape, train_bboxes.shape, test_images_wcanvac.shape, test_bboxes.shape"
      ]
    },
    {
      "cell_type": "markdown",
      "metadata": {
        "id": "_fXo6GuvL3EB"
      },
      "source": [
        "### Visualize Data"
      ]
    },
    {
      "cell_type": "code",
      "execution_count": null,
      "metadata": {
        "colab": {
          "base_uri": "https://localhost:8080/",
          "height": 551
        },
        "id": "yZ4tjPKvL2eh",
        "outputId": "7c3ed347-16e7-4f09-b29b-7db541c2062d"
      },
      "outputs": [
        {
          "data": {
            "image/png": "[encoded data removed]",
            "text/plain": [
              "<Figure size 720x288 with 11 Axes>"
            ]
          },
          "metadata": {},
          "output_type": "display_data"
        },
        {
          "data": {
            "image/png": "[encoded data removed]",
            "text/plain": [
              "<Figure size 720x288 with 11 Axes>"
            ]
          },
          "metadata": {},
          "output_type": "display_data"
        }
      ],
      "source": [
        "display_digits_with_boxes(train_images_wcanvac,  train_bboxes, \"training digits and their labels\")\n",
        "display_digits_with_boxes(test_images_wcanvac, test_bboxes, \"validation digits and their labels\")\n"
      ]
    },
    {
      "cell_type": "markdown",
      "metadata": {
        "id": "pmdFAhzlxL1_"
      },
      "source": [
        "## Writing a custom dataset\n",
        "\n",
        "Let's write a dataset.\n",
        "\n",
        "First, let's download and extract the data"
      ]
    }
  ],
  "metadata": {
    "colab": {
      "collapsed_sections": [],
      "name": "generate_mnist_boxes.ipynb",
      "provenance": []
    },
    "kernelspec": {
      "display_name": "Python 3",
      "name": "python3"
    },
    "language_info": {
      "name": "python"
    }
  },
  "nbformat": 4,
  "nbformat_minor": 0
}
